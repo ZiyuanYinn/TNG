{
 "cells": [
  {
   "cell_type": "code",
   "execution_count": 6,
   "id": "a00a5787-23b4-4c42-aae9-62d74e994bf8",
   "metadata": {
    "tags": []
   },
   "outputs": [],
   "source": [
    "import importlib.util\n",
    "#import numpy as np\n",
    "import sys\n",
    "import illustris_python as il\n",
    "spec = importlib.util.spec_from_file_location('sin_ifu_clean', 'sin_ifu_clean.py')\n",
    "##spec = importlib.util.spec_from_file_location('sin_ifu_clean', 'sin_ifu_clean_Edrick.py')\n",
    "sifu = importlib.util.module_from_spec(spec)\n",
    "sys.modules['sin_ifu_clean'] = sifu\n",
    "spec.loader.exec_module(sifu)"
   ]
  },
  {
   "cell_type": "code",
   "execution_count": 7,
   "id": "c338fac0-37db-4026-a169-b211fa0b25c6",
   "metadata": {
    "tags": []
   },
   "outputs": [],
   "source": [
    "def momentOfInertiaTensor(sP, subhaloID=None):\n",
    "    \"\"\" Calculate the moment of inertia tensor (3x3 matrix) for a subhalo-scope particle set. \"\"\"\n",
    "\n",
    "    # load required particle data for this subhalo\n",
    "    subhalo = sP.groupCatSingle(subhaloID=subhaloID)\n",
    "    rHalf = subhalo['SubhaloHalfmassRadType'][sP.ptNum('stars')]\n",
    "    shPos = subhalo['SubhaloPos']\n",
    "\n",
    "    gas = sP.snapshotSubset('gas', fields=['mass','pos','sfr'], subhaloID=subhaloID)\n",
    "\n",
    "    assert gas['count'] > 1\n",
    "\n",
    "    # distances\n",
    "    rad_gas = sP.periodicDists(shPos, gas['Coordinates'])\n",
    "\n",
    "    wGas = np.where( (rad_gas <= 2.0*rHalf) & (gas['StarFormationRate'] > 0.0) )[0]\n",
    "\n",
    "    masses = gas['Masses'][wGas]\n",
    "    xyz = gas['Coordinates'][wGas,:]\n",
    "\n",
    "    # shift\n",
    "    xyz = np.squeeze(xyz)\n",
    "\n",
    "    if xyz.ndim == 1:\n",
    "        xyz = np.reshape( xyz, (1,3) )\n",
    "\n",
    "    for i in range(3):\n",
    "        xyz[:,i] -= shPos[i]\n",
    "\n",
    "    # if coordinates wrapped box boundary before shift:\n",
    "    sP.correctPeriodicDistVecs(xyz)\n",
    "\n",
    "    # construct moment of inertia\n",
    "    I = np.zeros( (3,3), dtype='float32' )\n",
    "\n",
    "    I[0,0] = np.sum( masses * (xyz[:,1]*xyz[:,1] + xyz[:,2]*xyz[:,2]) )\n",
    "    I[1,1] = np.sum( masses * (xyz[:,0]*xyz[:,0] + xyz[:,2]*xyz[:,2]) )\n",
    "    I[2,2] = np.sum( masses * (xyz[:,0]*xyz[:,0] + xyz[:,1]*xyz[:,1]) )\n",
    "    I[0,1] = -1 * np.sum( masses * (xyz[:,0]*xyz[:,1]) )\n",
    "    I[0,2] = -1 * np.sum( masses * (xyz[:,0]*xyz[:,2]) )\n",
    "    I[1,2] = -1 * np.sum( masses * (xyz[:,1]*xyz[:,2]) )\n",
    "    I[1,0] = I[0,1]\n",
    "    I[2,0] = I[0,2]\n",
    "    I[2,1] = I[1,2]\n",
    "\n",
    "    return I\n",
    "\n",
    "\n",
    "def rotationMatricesFromInertiaTensor(I):\n",
    "    \"\"\" Calculate 3x3 rotation matrix by a diagonalization of the moment of inertia tensor.\n",
    "    Note the resultant rotation matrices are hard-coded for projection with axes=[0,1] e.g. along z. \"\"\"\n",
    "\n",
    "    # get eigen values and normalized right eigenvectors\n",
    "    eigen_values, rotation_matrix = np.linalg.eig(I)\n",
    "\n",
    "    # sort ascending the eigen values\n",
    "    sort_inds = np.argsort(eigen_values)\n",
    "    eigen_values = eigen_values[sort_inds]\n",
    "\n",
    "    # permute the eigenvectors into this order, which is the rotation matrix which orients the\n",
    "    # principal axes to the cartesian x,y,z axes, such that if axes=[0,1] we have face-on\n",
    "    new_matrix = np.matrix( (rotation_matrix[:,sort_inds[0]],\n",
    "                             rotation_matrix[:,sort_inds[1]],\n",
    "                             rotation_matrix[:,sort_inds[2]]) )\n",
    "\n",
    "    # make a random edge on view\n",
    "    phi = np.random.uniform(0, 2*np.pi)\n",
    "    theta = np.pi / 2\n",
    "    psi = 0\n",
    "\n",
    "    A_00 =  np.cos(psi)*np.cos(phi) - np.cos(theta)*np.sin(phi)*np.sin(psi)\n",
    "    A_01 =  np.cos(psi)*np.sin(phi) + np.cos(theta)*np.cos(phi)*np.sin(psi)\n",
    "    A_02 =  np.sin(psi)*np.sin(theta)\n",
    "    A_10 = -np.sin(psi)*np.cos(phi) - np.cos(theta)*np.sin(phi)*np.cos(psi)\n",
    "    A_11 = -np.sin(psi)*np.sin(phi) + np.cos(theta)*np.cos(phi)*np.cos(psi)\n",
    "    A_12 =  np.cos(psi)*np.sin(theta)\n",
    "    A_20 =  np.sin(theta)*np.sin(phi)\n",
    "    A_21 = -np.sin(theta)*np.cos(phi)\n",
    "    A_22 =  np.cos(theta)\n",
    "\n",
    "    random_edgeon_matrix = np.matrix( ((A_00, A_01, A_02), (A_10, A_11, A_12), (A_20, A_21, A_22)) )\n",
    "\n",
    "    # prepare return with a few other useful versions of this rotation matrix\n",
    "    r = {}\n",
    "    r['face-on'] = new_matrix\n",
    "    r['edge-on'] = np.matrix( ((1,0,0),(0,0,1),(0,-1,0)) ) * r['face-on'] # disk along x-hat\n",
    "    r['edge-on-smallest'] = np.matrix( ((0,1,0),(0,0,1),(1,0,0)) ) * r['face-on']\n",
    "    r['edge-on-y'] = np.matrix( ((0,0,1),(1,0,0),(0,-1,0)) ) * r['face-on'] # disk along y-hat\n",
    "    r['edge-on-random'] = random_edgeon_matrix * r['face-on']\n",
    "    r['phi'] = phi\n",
    "    r['identity'] = np.matrix( np.identity(3) )\n",
    "\n",
    "    return r"
   ]
  },
  {
   "cell_type": "code",
   "execution_count": null,
   "id": "c7c2bb67-55ec-4cc5-b2ab-fecb9431ac19",
   "metadata": {},
   "outputs": [],
   "source": [
    "rotationMatricesFromInertiaTensor(I)"
   ]
  },
  {
   "cell_type": "code",
   "execution_count": 5,
   "id": "e1a16321-066b-4d07-8ded-c498925fd8a9",
   "metadata": {
    "tags": []
   },
   "outputs": [
    {
     "ename": "AttributeError",
     "evalue": "'int' object has no attribute 'groupCatSingle'",
     "output_type": "error",
     "traceback": [
      "\u001b[0;31m---------------------------------------------------------------------------\u001b[0m",
      "\u001b[0;31mAttributeError\u001b[0m                            Traceback (most recent call last)",
      "Cell \u001b[0;32mIn[5], line 1\u001b[0m\n\u001b[0;32m----> 1\u001b[0m \u001b[43mmomentOfInertiaTensor\u001b[49m\u001b[43m(\u001b[49m\u001b[38;5;241;43m98\u001b[39;49m\u001b[43m,\u001b[49m\u001b[43msubhaloID\u001b[49m\u001b[38;5;241;43m=\u001b[39;49m\u001b[38;5;28;43;01mNone\u001b[39;49;00m\u001b[43m)\u001b[49m\n",
      "Cell \u001b[0;32mIn[2], line 5\u001b[0m, in \u001b[0;36mmomentOfInertiaTensor\u001b[0;34m(sP, subhaloID)\u001b[0m\n\u001b[1;32m      2\u001b[0m \u001b[38;5;250m\u001b[39m\u001b[38;5;124;03m\"\"\" Calculate the moment of inertia tensor (3x3 matrix) for a subhalo-scope particle set. \"\"\"\u001b[39;00m\n\u001b[1;32m      4\u001b[0m \u001b[38;5;66;03m# load required particle data for this subhalo\u001b[39;00m\n\u001b[0;32m----> 5\u001b[0m subhalo \u001b[38;5;241m=\u001b[39m \u001b[43msP\u001b[49m\u001b[38;5;241;43m.\u001b[39;49m\u001b[43mgroupCatSingle\u001b[49m(subhaloID\u001b[38;5;241m=\u001b[39msubhaloID)\n\u001b[1;32m      6\u001b[0m rHalf \u001b[38;5;241m=\u001b[39m subhalo[\u001b[38;5;124m'\u001b[39m\u001b[38;5;124mSubhaloHalfmassRadType\u001b[39m\u001b[38;5;124m'\u001b[39m][sP\u001b[38;5;241m.\u001b[39mptNum(\u001b[38;5;124m'\u001b[39m\u001b[38;5;124mstars\u001b[39m\u001b[38;5;124m'\u001b[39m)]\n\u001b[1;32m      7\u001b[0m shPos \u001b[38;5;241m=\u001b[39m subhalo[\u001b[38;5;124m'\u001b[39m\u001b[38;5;124mSubhaloPos\u001b[39m\u001b[38;5;124m'\u001b[39m]\n",
      "\u001b[0;31mAttributeError\u001b[0m: 'int' object has no attribute 'groupCatSingle'"
     ]
    }
   ],
   "source": [
    "momentOfInertiaTensor(98,subhaloID=None)"
   ]
  },
  {
   "cell_type": "code",
   "execution_count": null,
   "id": "4653d661-cca1-4a14-8e8b-bbb514a3ca7b",
   "metadata": {},
   "outputs": [],
   "source": []
  }
 ],
 "metadata": {
  "kernelspec": {
   "display_name": "Python 3 (ipykernel)",
   "language": "python",
   "name": "python3"
  },
  "language_info": {
   "codemirror_mode": {
    "name": "ipython",
    "version": 3
   },
   "file_extension": ".py",
   "mimetype": "text/x-python",
   "name": "python",
   "nbconvert_exporter": "python",
   "pygments_lexer": "ipython3",
   "version": "3.11.4"
  }
 },
 "nbformat": 4,
 "nbformat_minor": 5
}
