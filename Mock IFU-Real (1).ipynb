{
 "cells": [
  {
   "cell_type": "code",
   "execution_count": 1,
   "metadata": {
    "tags": []
   },
   "outputs": [],
   "source": [
    "import importlib.util\n",
    "#import numpy as np\n",
    "import sys\n",
    "import illustris_python as il\n",
    "spec = importlib.util.spec_from_file_location('sin_ifu_clean', 'sin_ifu_clean.py')\n",
    "##spec = importlib.util.spec_from_file_location('sin_ifu_clean', 'sin_ifu_clean_Edrick.py')\n",
    "sifu = importlib.util.module_from_spec(spec)\n",
    "sys.modules['sin_ifu_clean'] = sifu\n",
    "spec.loader.exec_module(sifu)"
   ]
  },
  {
   "cell_type": "code",
   "execution_count": 2,
   "metadata": {},
   "outputs": [],
   "source": [
    "snap = 98 # snapshot number # originally 98\n",
    "subhalo = 490186 # subhalo ID within the snapshot originally 323653\n",
    "basePath = '../sims.TNG/TNG50-1/output'\n",
    "re_kpc = 8 # Petrossian effective radius (predicted from fit) # originally 1.37177\n",
    "redshift = 0.08 # redshift of snapshot # originally 0.035\n",
    "fib_n = 7 # largest bundle size \n",
    "ns = 3 * fib_n * (fib_n-1) + 1 #total number of fibres in bundle\n"
   ]
  },
  {
   "cell_type": "code",
   "execution_count": 3,
   "metadata": {},
   "outputs": [
    {
     "name": "stdout",
     "output_type": "stream",
     "text": [
      "100\n",
      "For snap-98 running subhalo 490186 in halo 131\n",
      "done\n"
     ]
    }
   ],
   "source": [
    "#######################################################################\n",
    "###### Step 1: Create particle files ##################################\n",
    "#######################################################################\n",
    "fov = 61\n",
    "ex_vector = [1,0,0]\n",
    "exv = str(ex_vector[0]) + str(ex_vector[1]) + str(ex_vector[2])\n",
    "print (exv)\n",
    "\n",
    "sifu.mk_particle_files(subhalo, snap, basePath, ex=ex_vector, FOV=fov, overwrite=True, outdir = 'Particle_Files') # originally [1,0,0]\n",
    "\n",
    "print ('done')"
   ]
  },
  {
   "cell_type": "code",
   "execution_count": 4,
   "metadata": {
    "tags": []
   },
   "outputs": [
    {
     "name": "stdout",
     "output_type": "stream",
     "text": [
      "10  CPUs employed.\n",
      "Time Taken: 5.72 minutes\n",
      "done\n"
     ]
    }
   ],
   "source": [
    "import time \n",
    "start_time = time.time()\n",
    "###### Step 2: Generate row stacked spectrum (RSS) file ###############\n",
    "#######################################################################\n",
    "#For the next step template gas file must be dowloaded separately and saved in libs directory templete_gas.fits.gz\n",
    "# mk_mock_RSS outputs a RSS file called\n",
    "#rss_file = 'ilust-'+str(snap)+'-'+str(subhalo)+'-0-127.cube_RSS.fits.gz'\n",
    "\n",
    "## originally:\n",
    "#sifu.mk_mock_RSS(star_file='/snap98_shalo323653_0_stars.dat',\\\n",
    "#                 gas_file='/snap98_shalo323653_0_gas.dat',\\\n",
    "#                 indir='../Mock_Spectroscopy/Particle_Files', red_0=redshift,\\\n",
    "#                 outdir='../Mock_Spectroscopy/RSS',\\\n",
    "#                 rssf='/ilust-'+str(snap)+'-'+str(subhalo),\\\n",
    "#                 template_SSP_control='MaNGIA_TNG/libs/MaStar_CB19.slog_1_5.fits.gz',\\\n",
    "#                 template_SSP='MaNGIA_TNG/libs/MaStar_CB19.slog_1_5.fits.gz', \\\n",
    "#                 template_gas='MaNGIA_TNG/libs/templete_gas.fits', fib_n=7, cpu_count=2)\n",
    "\n",
    "\n",
    "sifu.mk_mock_RSS(star_file='/snap' + str(snap) + '_shalo' + str(subhalo) + '_0_stars.dat',\\\n",
    "                 gas_file='/snap' + str(snap) + '_shalo' + str(subhalo) + '_0_gas.dat',\\\n",
    "                 indir='../Mock_Spectroscopy/Particle_Files', red_0=redshift,\\\n",
    "                 outdir='../Mock_Spectroscopy/RSS',\\\n",
    "                 rssf='/ilust-'+str(snap)+'-'+str(subhalo),\\\n",
    "                 template_SSP_control='MaNGIA_TNG/libs/MaStar_CB19.slog_1_5.fits.gz',\\\n",
    "                 template_SSP='MaNGIA_TNG/libs/MaStar_CB19.slog_1_5.fits.gz', \\\n",
    "                 template_gas='MaNGIA_TNG/libs/templete_gas.fits', fib_n=7, cpu_count=10)\n",
    "\n",
    "# template_SSP directories are all changed to the relevant directories in the remote server\n",
    "\n",
    "end_time = time.time()\n",
    "elapsed_time = (end_time - start_time) / 60\n",
    "print(f\"Time Taken: {elapsed_time:.2f} minutes\")\n",
    "print ('done')"
   ]
  },
  {
   "cell_type": "code",
   "execution_count": 5,
   "metadata": {
    "tags": []
   },
   "outputs": [
    {
     "name": "stdout",
     "output_type": "stream",
     "text": [
      "5\n",
      "Datacube done.\n",
      "Cube_val done.\n",
      "Time Taken: 17.38 minutes\n",
      "All Done\n"
     ]
    }
   ],
   "source": [
    "import time \n",
    "start_time = time.time()\n",
    "#######################################################################\n",
    "###### Step 3: Recombine fiber spectrum to create mock data cube ######\n",
    "#######################################################################\n",
    "rss_file = '../Mock_Spectroscopy/RSS/ilust-'+str(snap)+'-'+str(subhalo)+'-'+str(ns)+'.cube_RSS.fits.gz'\n",
    "#sifu.regrid(rss_file,\\\n",
    "           # outf='../Mock_Spectroscopy/Mock_Data_Cube/TNG50-reds-' + str(redshift) + '-angle-' + str(exv) + '-FOV-' + str(fov) + '-re_kpc-' + str(re_kpc) + '-snap-'+str(snap) + '-'+str(subhalo),\\\n",
    "           # template_SSP_control='MaNGIA_TNG/libs/MaStar_CB19.slog_1_5.fits.gz', \\\n",
    "           # n_fib=7, thet=0.0, R_eff=re_kpc, include_gas=False)\n",
    "\n",
    "\n",
    "sifu.regrid(rss_file,\\\n",
    "            outf='../Mock_Spectroscopy/Mock_Data_Cube/TNG50-reds-' + str(redshift) + '-angle-' + str(exv) + '-FOV-' + str(fov) + '-re_kpc-' + str(re_kpc) + '-snap-'+str(snap) + '-'+str(subhalo),\\\n",
    "            template_SSP_control='MaNGIA_TNG/libs/MaStar_CB19.slog_1_5.fits.gz', \\\n",
    "            n_fib=7, thet=0.0, R_eff=re_kpc, include_gas=False)\n",
    "\n",
    "end_time = time.time()\n",
    "elapsed_time = (end_time - start_time) / 60\n",
    "print(f\"Time Taken: {elapsed_time:.2f} minutes\")\n",
    "print (\"All Done\")"
   ]
  },
  {
   "cell_type": "code",
   "execution_count": null,
   "metadata": {},
   "outputs": [],
   "source": []
  }
 ],
 "metadata": {
  "kernelspec": {
   "display_name": "Python 3 (ipykernel)",
   "language": "python",
   "name": "python3"
  },
  "language_info": {
   "codemirror_mode": {
    "name": "ipython",
    "version": 3
   },
   "file_extension": ".py",
   "mimetype": "text/x-python",
   "name": "python",
   "nbconvert_exporter": "python",
   "pygments_lexer": "ipython3",
   "version": "3.11.4"
  }
 },
 "nbformat": 4,
 "nbformat_minor": 4
}
